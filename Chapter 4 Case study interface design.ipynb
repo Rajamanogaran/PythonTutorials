{
 "cells": [
  {
   "cell_type": "code",
   "execution_count": 1,
   "metadata": {},
   "outputs": [],
   "source": [
    "# 4.1 The turtle module\n",
    "# 4.3 Exercises\n",
    "import turtle\n",
    "bob=turtle.Turtle()\n",
    "def squre(t,length):\n",
    "    for x in range(4):\n",
    "        t.fd(length)\n",
    "        t.lt(90)\n",
    "        \n",
    "squre(bob,100)\n",
    "turtle.mainloop()"
   ]
  },
  {
   "cell_type": "code",
   "execution_count": 57,
   "metadata": {
    "collapsed": true
   },
   "outputs": [],
   "source": [
    "import turtle\n",
    "bob=turtle.Turtle()\n",
    "def polygon(t,length,n):\n",
    "    angels=360/n\n",
    "    for x in range(n):\n",
    "        t.fd(length)\n",
    "        t.lt(angels)\n",
    "        \n",
    "polygon(bob,40,25)\n",
    "turtle.mainloop()"
   ]
  },
  {
   "cell_type": "code",
   "execution_count": 61,
   "metadata": {
    "collapsed": true
   },
   "outputs": [],
   "source": [
    "# 4.4 Encapsulation\n",
    "import turtle\n",
    "bob=turtle.Turtle()\n",
    "def square(t):\n",
    "    for i in range(4):\n",
    "        t.fd(100)\n",
    "        t.lt(90)\n",
    "square(bob)\n",
    "turtle.mainloop()"
   ]
  },
  {
   "cell_type": "code",
   "execution_count": 65,
   "metadata": {
    "collapsed": true
   },
   "outputs": [],
   "source": [
    "# 4.5 Generalization\n",
    "import turtle\n",
    "bob=turtle.Turtle()\n",
    "def square(t, length):\n",
    "    for i in range(4):\n",
    "        t.fd(length)\n",
    "        t.lt(90)\n",
    "square(bob, 100)\n"
   ]
  },
  {
   "cell_type": "code",
   "execution_count": null,
   "metadata": {
    "collapsed": true
   },
   "outputs": [],
   "source": [
    "# 4.6 Interface design\n",
    "import math\n",
    "import turtle\n",
    "bob=turtle.Turtle()\n",
    "def polygon(t,length,n):\n",
    "    angels=360/n\n",
    "    for x in range(n):\n",
    "        t.fd(length)\n",
    "        t.lt(angels)\n",
    "def circle(t, r):\n",
    "    circumference = 2 * math.pi * r\n",
    "    n = 50\n",
    "    length = circumference / n\n",
    "    polygon(t,length,n)\n",
    "circle(bob,60)\n",
    "turtle.mainloop()"
   ]
  },
  {
   "cell_type": "code",
   "execution_count": 77,
   "metadata": {
    "collapsed": true
   },
   "outputs": [],
   "source": [
    "# 4.7 Refactoring\n",
    "def arc(t, r, angle):\n",
    "    arc_length = 2 * math.pi * r * angle / 360\n",
    "    n = int(arc_length / 3) + 1\n",
    "    step_length = arc_length / n\n",
    "    step_angle = angle / n\n",
    "    for i in range(n):\n",
    "        t.fd(step_length)\n",
    "        t.lt(step_angle)\n"
   ]
  },
  {
   "cell_type": "code",
   "execution_count": null,
   "metadata": {},
   "outputs": [],
   "source": [
    "# 4.9 docstring\n",
    "import turtle\n",
    "bo=turtle.Turtle()\n",
    "def polyline(t, n, length, angle):\n",
    "    for i in range(n):\n",
    "        t.fd(length)\n",
    "        t.lt(angle)\n",
    "polyline(bo,40,200,190)\n",
    "turtle.mainloop()\n"
   ]
  },
  {
   "cell_type": "code",
   "execution_count": null,
   "metadata": {
    "collapsed": true
   },
   "outputs": [],
   "source": [
    "                                                '''Exercises'''\n",
    "\n"
   ]
  }
 ],
 "metadata": {
  "kernelspec": {
   "display_name": "Python 3",
   "language": "python",
   "name": "python3"
  },
  "language_info": {
   "codemirror_mode": {
    "name": "ipython",
    "version": 3
   },
   "file_extension": ".py",
   "mimetype": "text/x-python",
   "name": "python",
   "nbconvert_exporter": "python",
   "pygments_lexer": "ipython3",
   "version": "3.6.2"
  }
 },
 "nbformat": 4,
 "nbformat_minor": 2
}
