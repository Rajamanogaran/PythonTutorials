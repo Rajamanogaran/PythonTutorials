{
 "cells": [
  {
   "cell_type": "code",
   "execution_count": 58,
   "metadata": {},
   "outputs": [
    {
     "name": "stdout",
     "output_type": "stream",
     "text": [
      "['the']\n",
      "['player', 'character']\n",
      "['is']\n",
      "['controlled']\n",
      "['via']\n",
      "['the']\n",
      "['wii']\n",
      "['remote']\n",
      "['and']\n",
      "['nunchuk']\n",
      "['while']\n",
      "['most']\n",
      "['of']\n",
      "[\"mario's\"]\n",
      "['abilities']\n",
      "['are']\n",
      "['taken']\n",
      "['directly']\n",
      "['from']\n",
      "['super']\n",
      "['mario']\n",
      "['such']\n",
      "['as']\n",
      "['the']\n",
      "['long']\n",
      "['jump']\n",
      "['wall']\n",
      "['jumps']\n",
      "['and']\n",
      "['a']\n",
      "['variety']\n",
      "['of']\n",
      "['somersaults']\n",
      "['a']\n",
      "['new']\n",
      "['feature']\n",
      "['called']\n",
      "['the']\n",
      "['star']\n",
      "['pointer']\n",
      "['which']\n",
      "['is']\n",
      "['a']\n",
      "['cursor']\n",
      "['that']\n",
      "['appears']\n",
      "['when']\n",
      "['the']\n",
      "['wii']\n",
      "['remote']\n",
      "['pointer']\n",
      "['is']\n",
      "['pointed']\n",
      "['at']\n",
      "['the']\n",
      "['screen']\n",
      "['essentially']\n",
      "['the']\n",
      "['star']\n",
      "['pointer']\n",
      "['is']\n",
      "['used']\n",
      "['to']\n",
      "['pick']\n",
      "['up']\n",
      "['special']\n",
      "['konpeito', 'shaped']\n",
      "['objects']\n",
      "['called']\n",
      "['star']\n",
      "['bits']\n",
      "['which']\n",
      "['are']\n",
      "['then']\n",
      "['shot']\n",
      "['to']\n",
      "['stun']\n",
      "['enemies']\n",
      "['manipulate']\n",
      "['obstacles']\n",
      "['or']\n",
      "['feed']\n",
      "['hungry']\n",
      "['lumas']\n",
      "['star', 'shaped']\n",
      "['sentient']\n",
      "['beings']\n",
      "['which']\n",
      "['act']\n",
      "['as']\n",
      "['companions']\n",
      "['throughout']\n",
      "['the']\n",
      "['game']\n",
      "['secondly']\n",
      "['the']\n",
      "['pointer']\n",
      "['can']\n",
      "['latch']\n",
      "['onto']\n",
      "['small']\n",
      "['blue']\n",
      "['objects']\n",
      "['called']\n",
      "['pull']\n",
      "['stars']\n",
      "['which']\n",
      "['can']\n",
      "['be']\n",
      "['utilised']\n",
      "['to']\n",
      "['pull']\n",
      "['mario']\n",
      "['through']\n",
      "['space']\n",
      "['if']\n",
      "['the']\n",
      "['player']\n",
      "['becomes']\n",
      "['encased']\n",
      "['in']\n",
      "['a']\n",
      "['floating']\n",
      "['bubble']\n",
      "['the']\n",
      "['star']\n",
      "['pointer']\n",
      "['is']\n",
      "['used']\n",
      "['to']\n",
      "['manoeuvre']\n",
      "['the']\n",
      "['bubble']\n",
      "['early']\n",
      "['into']\n",
      "['the']\n",
      "['game']\n",
      "['the']\n",
      "['player']\n",
      "['learns']\n",
      "['a']\n",
      "['new']\n",
      "['ability']\n",
      "['known']\n",
      "['as']\n",
      "['the']\n",
      "['spin']\n",
      "['technique']\n",
      "['which']\n",
      "['has']\n",
      "['had']\n",
      "['appearances']\n",
      "['in']\n",
      "['varying']\n",
      "['forms']\n",
      "['throughout']\n",
      "['the']\n",
      "['super']\n",
      "['mario']\n",
      "['franchise']\n",
      "['in']\n",
      "['super']\n",
      "['mario']\n",
      "['galaxy']\n",
      "['the']\n",
      "['spin']\n",
      "['is']\n",
      "['primarily']\n",
      "['used']\n",
      "['for']\n",
      "['melee']\n",
      "['attacks']\n",
      "['as']\n",
      "['it']\n",
      "['can']\n",
      "['stun']\n",
      "['enemies']\n",
      "['and']\n",
      "['shatter']\n",
      "['objects']\n",
      "['and']\n",
      "['is']\n",
      "['used']\n",
      "['to']\n",
      "['trigger']\n",
      "['special']\n",
      "['propellers']\n",
      "['called']\n",
      "['sling']\n",
      "['stars']\n",
      "['or']\n",
      "['launch']\n",
      "['stars']\n",
      "['that']\n",
      "['launch']\n",
      "['mario']\n",
      "['across']\n",
      "['large']\n",
      "['distances']\n",
      "['through']\n",
      "['space']\n",
      "['the']\n",
      "['spin']\n",
      "['utility']\n",
      "['is']\n",
      "['also']\n",
      "['used']\n",
      "['for']\n",
      "['climbing']\n",
      "['vines']\n",
      "['ice']\n",
      "['skating']\n",
      "['unscrewing']\n",
      "['bolts']\n",
      "['and']\n",
      "['for']\n",
      "['activating']\n",
      "['several']\n",
      "['power', 'ups']\n",
      "['other']\n",
      "['wii']\n",
      "['remote']\n",
      "['functions']\n",
      "['are']\n",
      "['available']\n",
      "['for']\n",
      "['smaller']\n",
      "['quests']\n",
      "['such']\n",
      "['as']\n",
      "['surfing']\n",
      "['aboard']\n",
      "['a']\n",
      "['manta']\n",
      "['ray']\n",
      "['or']\n",
      "['balancing']\n",
      "['atop']\n",
      "['a']\n",
      "['large']\n",
      "['ball']\n",
      "['and']\n",
      "['rolling']\n",
      "['it']\n",
      "['through']\n"
     ]
    }
   ],
   "source": [
    "# 13.1 Word frequency analysis\n",
    "# Exercise 13.1\n",
    "import string\n",
    "file=open('file.txt','r').read()\n",
    "words=file.split()\n",
    "\n",
    "def word_analysis():\n",
    "    repeat=[]\n",
    "    for word in words:\n",
    "        word = word.replace('-',' ')\n",
    "        word=word.strip(string.punctuation+string.whitespace)\n",
    "        word=word.lower()\n",
    "        word=word.split()\n",
    "        print(word)\n",
    "        \n",
    "word_analysis()"
   ]
  },
  {
   "cell_type": "code",
   "execution_count": 225,
   "metadata": {},
   "outputs": [
    {
     "name": "stdout",
     "output_type": "stream",
     "text": [
      "Total number of words in the book:  74817\n",
      "Totel number of different words used:  7704\n",
      "The most common words are:\n",
      "to\t5295\n",
      "the\t5266\n",
      "and\t4931\n",
      "of\t4339\n",
      "i\t3191\n",
      "a\t3155\n",
      "it\t2546\n",
      "her\t2483\n",
      "was\t2400\n",
      "she\t2364\n"
     ]
    }
   ],
   "source": [
    "# Exercise 13.2.\n",
    "import string\n",
    "file=open('book_resource.txt','r').read()\n",
    "\n",
    "file=file.strip(string.whitespace)\n",
    "topic=('MEMORIES AND CONTRASTS')\n",
    "indx=file.find(topic)\n",
    "next_same=indx+len(topic)\n",
    "file=file[next_same:]\n",
    "indx2=file.find(topic)\n",
    "second_indx=indx2\n",
    "file=(file[second_indx:])\n",
    "def text_analysics():\n",
    "    totel_words=[]\n",
    "    for words in file.split():\n",
    "        words = words.replace('-',' ')\n",
    "        words=words.strip(string.punctuation+string.whitespace)\n",
    "        words=words.lower()\n",
    "        words=words.split()\n",
    "        words=totel_words.append(words)\n",
    "    print(\"Total number of words in the book: \",len(totel_words))\n",
    "    return totel_words\n",
    "\n",
    "def different_words():\n",
    "    new_dic=dict()\n",
    "    for words in text_analysics():\n",
    "        words=str(words)\n",
    "        words=words.strip('[]')\n",
    "        \n",
    "#         print(words)\n",
    "        if words not in new_dic:\n",
    "            new_dic[words]=1\n",
    "        else:\n",
    "            new_dic[words]+=1\n",
    "    print(\"Totel number of different words used: \",len(new_dic))\n",
    "    return (new_dic)\n",
    "    \n",
    "def most_common(hist):\n",
    "    t = []\n",
    "    for key, value in hist.items():\n",
    "        t.append((value, key))\n",
    "        t.sort(reverse=True)\n",
    "    \n",
    "    return t\n",
    "most_common(different_words())\n",
    "t = most_common(hist)\n",
    "print('The most common words are:')\n",
    "for freq, word in t[:10]:\n",
    "    print(word, freq, sep='\\t')\n"
   ]
  },
  {
   "cell_type": "code",
   "execution_count": 130,
   "metadata": {
    "collapsed": true
   },
   "outputs": [],
   "source": [
    "# Exercise 13.3."
   ]
  },
  {
   "cell_type": "code",
   "execution_count": 198,
   "metadata": {},
   "outputs": [
    {
     "name": "stdout",
     "output_type": "stream",
     "text": [
      "0.9638740944105313\n",
      "0.04030600727440292\n",
      "0.3425386415560089\n",
      "0.24712460671318426\n",
      "0.8199461016166251\n",
      "0.5870944303700074\n",
      "0.4328938209968406\n",
      "0.8273163233804727\n",
      "0.5859465831283035\n",
      "0.5296466076028108\n"
     ]
    }
   ],
   "source": [
    "# 13.2 Random numbers\n",
    "import random\n",
    "for i in range(10):\n",
    "    x = random.random()\n",
    "    print(x)"
   ]
  },
  {
   "cell_type": "code",
   "execution_count": 210,
   "metadata": {},
   "outputs": [
    {
     "data": {
      "text/plain": [
       "6"
      ]
     },
     "execution_count": 210,
     "metadata": {},
     "output_type": "execute_result"
    }
   ],
   "source": [
    "# Exercise 13.5.\n",
    "t={'a': 2, 'b': 1,'4':2,'7':6}\n",
    "for x,y in t.items():\n",
    "    maxd=t[x],y\n",
    "random.choice(maxd)"
   ]
  },
  {
   "cell_type": "code",
   "execution_count": 231,
   "metadata": {},
   "outputs": [
    {
     "name": "stdout",
     "output_type": "stream",
     "text": [
      "Total number of words in the book:  74817\n",
      "Totel number of different words used:  7704\n",
      "The most common words are:\n",
      "'the'\t3984\n",
      "'and'\t2657\n",
      "'of'\t2363\n",
      "'to'\t2194\n",
      "'a'\t1635\n",
      "'i'\t1438\n",
      "'in'\t1196\n",
      "'for'\t1071\n",
      "'that'\t1037\n",
      "'was'\t815\n"
     ]
    }
   ],
   "source": [
    "# 13.5 Optional parameters same thing what we done in 13.2 but here we set some default value,we can give any value\n",
    "def print_most_common(hist, num=10):\n",
    "    t = most_common(hist)\n",
    "    print('The most common words are:')\n",
    "    for freq, word in t[:num]:\n",
    "        print(word, freq, sep='\\t')\n",
    "print_most_common(different_words())"
   ]
  },
  {
   "cell_type": "code",
   "execution_count": 237,
   "metadata": {},
   "outputs": [
    {
     "name": "stdout",
     "output_type": "stream",
     "text": [
      "Total number of words in the book:  74817\n",
      "Totel number of different words used:  7704\n"
     ]
    },
    {
     "data": {
      "text/plain": [
       "\"'for'\""
      ]
     },
     "execution_count": 237,
     "metadata": {},
     "output_type": "execute_result"
    }
   ],
   "source": [
    "# 13.7 Random words\n",
    "def random_word(h):\n",
    "    t = []\n",
    "    for word, freq in h.items():\n",
    "        t.extend([word] * freq)\n",
    "    return random.choice(t)\n",
    "random_word(different_words())"
   ]
  },
  {
   "cell_type": "code",
   "execution_count": 4,
   "metadata": {},
   "outputs": [
    {
     "name": "stdout",
     "output_type": "stream",
     "text": [
      "3.141592653589793\n"
     ]
    }
   ],
   "source": [
    "import math\n",
    "print(math.pi)"
   ]
  },
  {
   "cell_type": "code",
   "execution_count": 5,
   "metadata": {},
   "outputs": [
    {
     "data": {
      "text/plain": [
       "3.142857142857143"
      ]
     },
     "execution_count": 5,
     "metadata": {},
     "output_type": "execute_result"
    }
   ],
   "source": [
    "22/7"
   ]
  },
  {
   "cell_type": "code",
   "execution_count": null,
   "metadata": {
    "collapsed": true
   },
   "outputs": [],
   "source": []
  }
 ],
 "metadata": {
  "kernelspec": {
   "display_name": "Python 3",
   "language": "python",
   "name": "python3"
  },
  "language_info": {
   "codemirror_mode": {
    "name": "ipython",
    "version": 3
   },
   "file_extension": ".py",
   "mimetype": "text/x-python",
   "name": "python",
   "nbconvert_exporter": "python",
   "pygments_lexer": "ipython3",
   "version": "3.6.2"
  }
 },
 "nbformat": 4,
 "nbformat_minor": 2
}
