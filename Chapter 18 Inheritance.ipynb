{
 "cells": [
  {
   "cell_type": "code",
   "execution_count": 26,
   "metadata": {},
   "outputs": [
    {
     "name": "stdout",
     "output_type": "stream",
     "text": [
      "2 of Clubs\n",
      "6 of Hearts\n"
     ]
    }
   ],
   "source": [
    "class Card:\n",
    "    suit_names = ['Clubs', 'Diamonds', 'Hearts', 'Spades']\n",
    "    rank_names = [None, 'Ace', '2', '3', '4', '5', '6', '7','8', '9', '10', 'Jack', 'Queen', 'King']\n",
    "    \"\"\"Represents a standard playing card.\"\"\"\n",
    "    def __init__(self, suit=0, rank=2):\n",
    "        self.suit = suit\n",
    "        self.rank = rank\n",
    "    \n",
    "        \n",
    "    def __str__(self):\n",
    "        return '%s of %s' % (Card.rank_names[self.rank],Card.suit_names[self.suit])\n",
    "#     def __lt__(self, other):\n",
    "#         if self.suit < other.suit: return True\n",
    "#         if self.suit > other.suit: return False\n",
    "#         return self.rank < other.rank\n",
    "# 18.3 Comparing cards\n",
    "\n",
    "    def __lt__(self, other):\n",
    "            t1 = self.suit, self.rank\n",
    "            t2 = other.suit, other.rank\n",
    "            return t1 < t2\n",
    "card=Card()\n",
    "print(card)\n",
    "card1=Card(2,6)\n",
    "print(card1)"
   ]
  },
  {
   "cell_type": "code",
   "execution_count": 27,
   "metadata": {},
   "outputs": [
    {
     "name": "stdout",
     "output_type": "stream",
     "text": [
      "Jack of Hearts\n"
     ]
    }
   ],
   "source": [
    "card1 = Card(2, 11)\n",
    "print(card1)"
   ]
  },
  {
   "cell_type": "code",
   "execution_count": 63,
   "metadata": {
    "collapsed": true
   },
   "outputs": [],
   "source": [
    "import random\n",
    "class Deck:\n",
    "    def __init__(self):\n",
    "        self.cards = []\n",
    "        for suit in range(4):\n",
    "            for rank in range(1, 14):\n",
    "                card = Card(suit, rank)\n",
    "                self.cards.append(card)\n",
    "    def __str__(self):\n",
    "        res = []\n",
    "        for card in self.cards:\n",
    "            res.append(str(card))\n",
    "        return '\\n'.join(res)\n",
    "    def pop_card(self):\n",
    "        return self.cards.pop()\n",
    "    # 18.6 Add, remove, shuffle and sort\n",
    "    def add_card(self, card):\n",
    "        self.cards.append(card)\n",
    "    def shuffle(self):\n",
    "        random.shuffle(self.cards)\n",
    "        \n",
    "    def move_cards(self, hand, num):\n",
    "        for i in range(num):\n",
    "            hand.add_card(self.pop_card())\n"
   ]
  },
  {
   "cell_type": "code",
   "execution_count": 64,
   "metadata": {},
   "outputs": [
    {
     "name": "stdout",
     "output_type": "stream",
     "text": [
      "King of Hearts\n",
      "2 of Clubs\n",
      "Jack of Diamonds\n",
      "3 of Hearts\n",
      "10 of Diamonds\n",
      "7 of Spades\n",
      "Queen of Hearts\n",
      "8 of Spades\n",
      "Ace of Diamonds\n",
      "3 of Diamonds\n",
      "Ace of Clubs\n",
      "2 of Spades\n",
      "7 of Hearts\n",
      "Jack of Hearts\n",
      "3 of Spades\n",
      "Queen of Clubs\n",
      "King of Clubs\n",
      "5 of Spades\n",
      "Jack of Spades\n",
      "9 of Diamonds\n",
      "4 of Diamonds\n",
      "5 of Clubs\n",
      "3 of Clubs\n",
      "6 of Spades\n",
      "Jack of Clubs\n",
      "5 of Hearts\n",
      "1\n",
      "9 of Clubs\n",
      "Ace of Hearts\n",
      "2 of Diamonds\n",
      "10 of Clubs\n",
      "8 of Diamonds\n",
      "9 of Hearts\n",
      "7 of Clubs\n",
      "King of Diamonds\n",
      "10 of Hearts\n",
      "7 of Diamonds\n",
      "8 of Clubs\n",
      "Queen of Spades\n",
      "5 of Diamonds\n",
      "2 of Hearts\n",
      "Ace of Spades\n",
      "4 of Spades\n",
      "6 of Diamonds\n",
      "Queen of Diamonds\n",
      "4 of Clubs\n",
      "9 of Spades\n",
      "4 of Hearts\n",
      "6 of Clubs\n",
      "10 of Spades\n",
      "8 of Hearts\n",
      "6 of Hearts\n"
     ]
    }
   ],
   "source": [
    "deck = Deck()\n",
    "deck.pop_card()\n",
    "deck.add_card(1)\n",
    "deck.shuffle()\n",
    "print(deck)"
   ]
  },
  {
   "cell_type": "code",
   "execution_count": 65,
   "metadata": {
    "collapsed": true
   },
   "outputs": [],
   "source": [
    "# 18.7 Inheritance\n",
    "class Hand(Deck):\n",
    "    \"\"\"Represents a hand of playing cards.\"\"\"\n",
    "    def __init__(self, label=''):\n",
    "        self.cards = []\n",
    "        self.label = label"
   ]
  },
  {
   "cell_type": "code",
   "execution_count": 66,
   "metadata": {},
   "outputs": [
    {
     "data": {
      "text/plain": [
       "'new hand'"
      ]
     },
     "execution_count": 66,
     "metadata": {},
     "output_type": "execute_result"
    }
   ],
   "source": [
    "hand = Hand('new hand')\n",
    "hand.cards\n",
    "hand.label"
   ]
  },
  {
   "cell_type": "code",
   "execution_count": 67,
   "metadata": {},
   "outputs": [
    {
     "name": "stdout",
     "output_type": "stream",
     "text": [
      "King of Spades\n"
     ]
    }
   ],
   "source": [
    "deck = Deck()\n",
    "card = deck.pop_card()\n",
    "hand.add_card(card)\n",
    "print(hand)"
   ]
  },
  {
   "cell_type": "code",
   "execution_count": null,
   "metadata": {
    "collapsed": true
   },
   "outputs": [],
   "source": []
  }
 ],
 "metadata": {
  "kernelspec": {
   "display_name": "Python 3",
   "language": "python",
   "name": "python3"
  },
  "language_info": {
   "codemirror_mode": {
    "name": "ipython",
    "version": 3
   },
   "file_extension": ".py",
   "mimetype": "text/x-python",
   "name": "python",
   "nbconvert_exporter": "python",
   "pygments_lexer": "ipython3",
   "version": "3.6.2"
  }
 },
 "nbformat": 4,
 "nbformat_minor": 2
}
